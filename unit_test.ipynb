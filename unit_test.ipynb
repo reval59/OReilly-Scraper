{
 "metadata": {
  "language_info": {
   "codemirror_mode": {
    "name": "ipython",
    "version": 3
   },
   "file_extension": ".py",
   "mimetype": "text/x-python",
   "name": "python",
   "nbconvert_exporter": "python",
   "pygments_lexer": "ipython3",
   "version": "3.8.3-final"
  },
  "orig_nbformat": 2,
  "kernelspec": {
   "name": "Python 3.8.3 64-bit ('base': conda)",
   "display_name": "Python 3.8.3 64-bit ('base': conda)",
   "metadata": {
    "interpreter": {
     "hash": "569d6b7e9215e11aba41c6454007e5c1b78bad7df09dab765d8cf00362c40f03"
    }
   }
  }
 },
 "nbformat": 4,
 "nbformat_minor": 2,
 "cells": [
  {
   "cell_type": "code",
   "execution_count": 72,
   "metadata": {},
   "outputs": [],
   "source": [
    "import importlib\n",
    "import scrapper\n",
    "importlib.reload(scrapper)\n",
    "from scrapper import Scrapper"
   ]
  },
  {
   "cell_type": "code",
   "execution_count": 73,
   "metadata": {},
   "outputs": [],
   "source": [
    "Scrapper.driver().maximize_window()"
   ]
  },
  {
   "cell_type": "code",
   "execution_count": 74,
   "metadata": {},
   "outputs": [],
   "source": [
    "Scrapper.get('https://learning.oreilly.com/accounts/login-check/')\n",
    "el_username = Scrapper.select_one('input[type=email]')\n",
    "el_password = Scrapper.select_one('input[type=password]')\n",
    "el_signin = Scrapper.select_multiple('form > button')[1]"
   ]
  },
  {
   "cell_type": "code",
   "execution_count": 75,
   "metadata": {},
   "outputs": [],
   "source": [
    "username = 'skimbc@connect.ust.hk'\n",
    "password = '15Rudethejack'\n",
    "Scrapper.actions().click(el_username).send_keys(username).click(el_password).send_keys(password).pause(2).click(el_signin).perform()"
   ]
  },
  {
   "cell_type": "code",
   "execution_count": 81,
   "metadata": {},
   "outputs": [],
   "source": [
    "el_search = Scrapper.select_one('input[type=search]')"
   ]
  },
  {
   "cell_type": "code",
   "execution_count": 77,
   "metadata": {},
   "outputs": [],
   "source": [
    "from selenium.webdriver.common.keys import Keys"
   ]
  },
  {
   "cell_type": "code",
   "execution_count": 82,
   "metadata": {},
   "outputs": [],
   "source": [
    "Scrapper.actions().click(el_search).send_keys('Python').send_keys(Keys.ENTER).perform()"
   ]
  },
  {
   "cell_type": "code",
   "execution_count": 92,
   "metadata": {},
   "outputs": [],
   "source": [
    "el_firstbook = Scrapper.select_one('main[id=main] > div > section > ul a')"
   ]
  },
  {
   "cell_type": "code",
   "execution_count": 93,
   "metadata": {},
   "outputs": [],
   "source": [
    "Scrapper.actions().click(el_firstbook).perform()"
   ]
  },
  {
   "cell_type": "code",
   "execution_count": 94,
   "metadata": {},
   "outputs": [],
   "source": [
    "el_reading = Scrapper.select_one('div.action > span > a')"
   ]
  },
  {
   "cell_type": "code",
   "execution_count": 96,
   "metadata": {},
   "outputs": [],
   "source": [
    "Scrapper.actions().click(el_reading).perform()"
   ]
  },
  {
   "cell_type": "code",
   "execution_count": 99,
   "metadata": {},
   "outputs": [],
   "source": [
    "el_toc_list = Scrapper.select_one('ol.tocList')"
   ]
  },
  {
   "cell_type": "code",
   "execution_count": 103,
   "metadata": {},
   "outputs": [],
   "source": [
    "html_toc_list = el_toc_list.get_attribute('innerHTML')"
   ]
  },
  {
   "cell_type": "code",
   "execution_count": 120,
   "metadata": {},
   "outputs": [],
   "source": [
    "from bs4 import BeautifulSoup\n",
    "\n",
    "bs_toc_list = BeautifulSoup(html_to_list).find_all('a')\n",
    "toc_list : [(str, str)] = list(map(lambda el: (el.attrs['href'], el.text.replace('\\n', '').strip()), bs_toc_list))"
   ]
  },
  {
   "cell_type": "code",
   "execution_count": 125,
   "metadata": {},
   "outputs": [],
   "source": [
    "url = Scrapper.driver().current_url"
   ]
  },
  {
   "cell_type": "code",
   "execution_count": 123,
   "metadata": {},
   "outputs": [
    {
     "output_type": "execute_result",
     "data": {
      "text/plain": [
       "'/library/view/operating-system-concepts/9780470128725/silb_9780470128725_oeb_tp_r1.html'"
      ]
     },
     "metadata": {},
     "execution_count": 123
    }
   ],
   "source": [
    "toc_list[0][0]"
   ]
  },
  {
   "cell_type": "code",
   "execution_count": 127,
   "metadata": {},
   "outputs": [
    {
     "output_type": "execute_result",
     "data": {
      "text/plain": [
       "'https://learning.oreilly.com/library/view/operating-system-concepts/9780470128725/silb_9780470128725_oeb_tp_r1.html'"
      ]
     },
     "metadata": {},
     "execution_count": 127
    }
   ],
   "source": [
    "from urllib.parse import urlparse\n",
    "\n"
   ]
  },
  {
   "cell_type": "code",
   "execution_count": 128,
   "metadata": {},
   "outputs": [],
   "source": [
    "Scrapper.get(f'{urlparse(url).scheme}://{urlparse(url).netloc}{toc_list[0][0]}')"
   ]
  },
  {
   "cell_type": "code",
   "execution_count": null,
   "metadata": {},
   "outputs": [],
   "source": []
  }
 ]
}